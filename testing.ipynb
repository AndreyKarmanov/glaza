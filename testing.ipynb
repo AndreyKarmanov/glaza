{
 "cells": [
  {
   "cell_type": "code",
   "execution_count": 1,
   "metadata": {},
   "outputs": [],
   "source": [
    "import vertexai\n",
    "from vertexai.preview.generative_models import GenerativeModel, Image, GenerationConfig\n",
    "\n",
    "PROJECT_ID=\"ak-flow\"\n",
    "REGION = \"us-central1\"\n",
    "vertexai.init(project=PROJECT_ID, location=REGION)\n",
    "\n",
    "conifg = GenerationConfig(\n",
    "    temperature=0.1,\n",
    ")\n",
    "generative_multimodal_model = GenerativeModel(\"gemini-pro-vision\")\n",
    "text_model = GenerativeModel(\"gemini-pro\")"
   ]
  },
  {
   "cell_type": "code",
   "execution_count": 2,
   "metadata": {},
   "outputs": [],
   "source": [
    "from selenium.webdriver import Chrome, ChromeOptions\n",
    "from selenium.webdriver.common.by import By\n",
    "from selenium.webdriver.remote.webelement import WebElement\n",
    "\n",
    "options = ChromeOptions()\n",
    "# options.add_argument(\"force-device-scale-factor=0.5\")\n",
    "options.add_argument(\"window-size=1920,1080\")\n",
    "driver = Chrome(options=options)\n",
    "\n",
    "driver.get('chrome://settings/')\n",
    "driver.execute_script('chrome.settingsPrivate.setDefaultZoom(1.25);')\n",
    "driver.get(\"https://services.sungarddx.com/LogOn/?redirectUrl=%2F\")\n",
    "# driver.get(\"https://iam.intralinks.com/idp/login/?applicationid=98e3df54-2ef1-48b4-82d4-02b83d273d23&hostname=services.intralinks.com\")"
   ]
  },
  {
   "cell_type": "code",
   "execution_count": 3,
   "metadata": {},
   "outputs": [],
   "source": [
    "import cv2\n",
    "import bs4\n",
    "\n",
    "def screenshot_with_highlights(filename: str):\n",
    "    driver.save_screenshot(filename)\n",
    "    image = cv2.imread(filename)\n",
    "    image = cv2.cvtColor(image, cv2.COLOR_BGR2RGB)\n",
    "\n",
    "\n",
    "    selectors = [\"input\", \"button\", \"a\", \"select\", \"textarea\"]\n",
    "    elems: list[WebElement] = []\n",
    "    for selector in selectors:\n",
    "        candidates = driver.find_elements(By.CSS_SELECTOR, selector)\n",
    "\n",
    "        # filter out elements with no size\n",
    "        elems.extend(filter(lambda elem: elem.is_displayed(), candidates))\n",
    "\n",
    "    for elem in elems:\n",
    "        # draw a rectangle around the element\n",
    "        h, w, x, y = map(lambda x: int(x * 1.25), elem.rect.values())\n",
    "        cv2.rectangle(image, (x, y), (x+w, y+h), (255, 0, 0), 2)\n",
    "\n",
    "    cv2.imwrite(filename, cv2.cvtColor(image, cv2.COLOR_RGB2BGR)) \n",
    "\n",
    "    return Image.load_from_file(filename)\n",
    "\n",
    "def get_cleaned_html():\n",
    "    html = driver.find_element(\n",
    "        By.CSS_SELECTOR, 'html').get_attribute('innerHTML')\n",
    "    soup = bs4.BeautifulSoup(html, 'html.parser')\n",
    "    # remove all the script and style tags\n",
    "    for tag in soup(['head', 'title', 'meta', 'script', 'style']):\n",
    "        tag.decompose()\n",
    "\n",
    "    # remove comments\n",
    "    comments = soup.find_all(string=lambda text: isinstance(text, bs4.Comment))\n",
    "    for comment in comments:\n",
    "        comment.extract()\n",
    "\n",
    "    # remove all base64 images\n",
    "    for img in soup.find_all('img'):\n",
    "        if img.has_attr('src') and img['src'].startswith('data:image'):\n",
    "            img.decompose()\n",
    "\n",
    "    return str(soup)\n",
    "\n",
    "def click(css_selector: str):\n",
    "    driver.find_element(By.CSS_SELECTOR, css_selector).click()\n",
    "\n",
    "def type(css_selector: str, text: str):\n",
    "    driver.find_element(By.CSS_SELECTOR, css_selector).send_keys(text)"
   ]
  },
  {
   "cell_type": "code",
   "execution_count": 4,
   "metadata": {},
   "outputs": [],
   "source": [
    "def get_step(previous):\n",
    "    prompt = f\"\"\"Describe what is in the picture. Provide a description of the elements in the picture.\n",
    "Answer yes or no to the following questions:\n",
    "- Is there a popup on the screen?\n",
    "- Is there a email address or username field in the picture?\n",
    "- Does the username field contain text?\n",
    "- Is there a password field in the picture?\n",
    "- Does the password field have anything inside of it? (text, asterisks, dots)\n",
    "\n",
    "If you were helping a person log in, what specific action would you recommend out of the following:\n",
    "- Close popups because they are blocking the view\n",
    "- Enter username\n",
    "- Click Next\n",
    "- Enter password\n",
    "- Click login\n",
    "\n",
    "You can only choose one action. For example you can say \"Close popups because they are blocking the view\" or \"Enter username\" or \"Click Next\" or \"Enter password\" or \"Click login\"\n",
    "\n",
    "You've done these steps so far:\n",
    "{previous}\n",
    "\n",
    "Don't repeat steps.\n",
    "\n",
    "Provide the response as a json object with the following keys:\n",
    "- page_description: <description of the elements in the picture>\n",
    "- <question>: <yes or no>\n",
    "- action: <action to take>\n",
    "- how_to: <how to take the action>\n",
    "Thanks!\n",
    "\"\"\"\n",
    "    driver.save_screenshot(\"screenshot.png\")\n",
    "    image = Image.load_from_file(\"screenshot.png\")\n",
    "\n",
    "    return generative_multimodal_model.generate_content([image, prompt], generation_config=conifg)\n"
   ]
  },
  {
   "cell_type": "code",
   "execution_count": 11,
   "metadata": {},
   "outputs": [],
   "source": [
    "def get_action(action):\n",
    "    findCssPrompt = f\"\"\"\n",
    "You are given html and a json object describing the page as a person would see it. The json is as follows:\n",
    "{action}\n",
    "You have two python functions you can call to help you.\n",
    "- click(css_selector: string): void\n",
    "- type(css_selector: string, text: string): void\n",
    "\n",
    "The parameters must be in quotes. For example:\n",
    "click(\"button\")\n",
    "type(\"input\", \"hello\")\n",
    "\n",
    "Your username is \"user@example.ca\"\n",
    "Your password is \"password123!\"\n",
    "\n",
    "What do you need to do to accomplish the \"action\" as described in the json object?\n",
    "What css selector do you need to interact with?\n",
    "If you're selecting by ID, use \"[id='<id>']\" as the css selector.\n",
    "\n",
    "Please provide the following keys in a json object:\n",
    "- thoughts: your thoughts on the task with answers to the questions\n",
    "- step: step description\n",
    "- specific css selector to interact with: css selector\n",
    "- function: <funciton call with parameters filled>\n",
    "\"\"\"\n",
    "    return generative_multimodal_model.generate_content([get_cleaned_html(), findCssPrompt], generation_config=conifg)"
   ]
  },
  {
   "cell_type": "code",
   "execution_count": 6,
   "metadata": {},
   "outputs": [],
   "source": [
    "import re\n",
    "import json\n",
    "\n",
    "prevSteps = []\n",
    "\n",
    "def get_json(responseText):\n",
    "    extractJson = re.search(r\"\\{.*\\}\", responseText, re.DOTALL)\n",
    "    return json.loads(extractJson.group(0))\n",
    "\n",
    "def update_prev_steps(responseJson):\n",
    "    global prevSteps\n",
    "    prevSteps.append((responseJson[\"step\"], responseJson[\"function\"]))"
   ]
  },
  {
   "cell_type": "code",
   "execution_count": 7,
   "metadata": {},
   "outputs": [],
   "source": [
    "prevSteps = []"
   ]
  },
  {
   "cell_type": "code",
   "execution_count": 8,
   "metadata": {},
   "outputs": [
    {
     "name": "stdout",
     "output_type": "stream",
     "text": [
      " ```json\n",
      "{\n",
      " \"page_description\": \"There is a green background with a FIS logo in the top left corner. In the center of the page is a white box with a blue FIS logo and 'Digital Data Exchange' text at the top. Below that is a form with two input fields: 'Email' and 'Password'. The 'Email' field has focus. There is a checkbox next to the 'Password' field that says 'Remember Me'. Below the 'Password' field is a blue button that says 'Submit'. Below the button is a link that says 'Forgot Your Password?'. In the bottom right corner is a dropdown that says 'Change Language: English (United States)'.\",\n",
      " \"is_there_a_popup_on_the_screen\": \"no\",\n",
      " \"is_there_a_email_address_or_username_field_in_the_picture\": \"yes\",\n",
      " \"does_the_username_field_contain_text\": \"no\",\n",
      " \"is_there_a_password_field_in_the_picture\": \"yes\",\n",
      " \"does_the_password_field_have_anything_inside_of_it\": \"no\",\n",
      " \"action\": \"Enter username\",\n",
      " \"how_to\": \"Type your username into the 'Email' field.\"\n",
      "}\n",
      "```\n",
      "```json\n",
      "{\n",
      " \"thoughts\": \"I need to click on the 'Email' field and type in my username. The 'Email' field is the first input field on the page.\",\n",
      " \"step\": \"Click on the 'Email' field and type in your username.\",\n",
      " \"specific css selector to interact with\": \"input[name='email']\",\n",
      " \"function\": \"type(\\\"input[name='email']\\\", \\\"user@example.ca\\\")\"\n",
      "}\n",
      "```\n"
     ]
    }
   ],
   "source": [
    "step = get_step(\"\\n\".join([f\"{step[0]}: {step[1]}\" for step in prevSteps]))\n",
    "print(step.text)\n",
    "action = get_action(step.text)\n",
    "print(action.text)\n",
    "actionJson = get_json(action.text)\n",
    "eval(actionJson['function'])\n",
    "update_prev_steps(actionJson)"
   ]
  },
  {
   "cell_type": "code",
   "execution_count": 9,
   "metadata": {},
   "outputs": [
    {
     "name": "stdout",
     "output_type": "stream",
     "text": [
      " ```json\n",
      "{\n",
      "  \"page_description\": \"There is a green background with a FIS logo in the top left corner. In the center of the page is a white box with a form to log in. There are two fields in the form, one labeled 'Email' and the other labeled 'Password'. There is a button below the form that says 'Submit'. Below the button is a link that says 'Activate Your Account'. To the right of the 'Activate Your Account' link is a link that says 'Forgot Your Email?'. Below the 'Forgot Your Email?' link is a link that says 'Forgot Your Password?'. Below the 'Forgot Your Password?' link is a link that says 'Unlock Account'. Below the 'Unlock Account' link is a link that says 'Change Language: English (United States)'.\",\n",
      "  \"is_there_a_popup_on_the_screen\": \"no\",\n",
      "  \"is_there_a_email_address_or_username_field_in_the_picture\": \"yes\",\n",
      "  \"does_the_username_field_contain_text\": \"yes\",\n",
      "  \"is_there_a_password_field_in_the_picture\": \"yes\",\n",
      "  \"does_the_password_field_have_anything_inside_of_it\": \"no\",\n",
      "  \"action\": \"Enter password\",\n",
      "  \"how_to\": \"Click on the 'Password' field and type in your password.\"\n",
      "}\n",
      "```\n",
      "```json\n",
      "{\n",
      "  \"thoughts\": \"I need to click on the password field and type in my password. The password field has the css selector '#password'. I can use the type function to type in my password.\",\n",
      "  \"step\": \"Click on the password field and type in your password.\",\n",
      "  \"specific css selector to interact with\": \"#password\",\n",
      "  \"function\": \"type(\\\"#password\\\", \\\"password123!\\\")\"\n",
      "}\n",
      "```\n"
     ]
    }
   ],
   "source": [
    "step = get_step(\"\\n\".join([f\"{step[0]}: {step[1]}\" for step in prevSteps]))\n",
    "print(step.text)\n",
    "action = get_action(step.text)\n",
    "print(action.text)\n",
    "actionJson = get_json(action.text)\n",
    "eval(actionJson['function'])\n",
    "update_prev_steps(actionJson)"
   ]
  },
  {
   "cell_type": "code",
   "execution_count": 13,
   "metadata": {},
   "outputs": [
    {
     "name": "stdout",
     "output_type": "stream",
     "text": [
      " ```json\n",
      "{\n",
      "  \"page_description\": \"There is a green background with a FIS logo in the top left corner. In the center of the page is a white box with a form to login. There are two fields in the form, one labeled 'Email' and the other labeled 'Password'. The email field contains the text 'user@example.ca'. There is a button below the form that says 'Submit'. Below the button is a link that says 'Forgot Your Password?'\",\n",
      "  \"Is there a popup on the screen?\": \"no\",\n",
      "  \"Is there a email address or username field in the picture?\": \"yes\",\n",
      "  \"Does the username field contain text?\": \"yes\",\n",
      "  \"Is there a password field in the picture?\": \"yes\",\n",
      "  \"Does the password field have anything inside of it? (text, asterisks, dots)\": \"yes\",\n",
      "  \"action\": \"Click login\",\n",
      "  \"how_to\": \"Click the 'Submit' button.\"\n",
      "}\n",
      "```\n",
      "```json\n",
      "{\n",
      "  \"thoughts\": \"I need to click the submit button to log in. The submit button has the css selector '#854e7817c6fc41dda6d1c8d43c5dd920'.\",\n",
      "  \"step\": \"Click the submit button.\",\n",
      "  \"specific css selector to interact with\": \"#854e7817c6fc41dda6d1c8d43c5dd920\",\n",
      "  \"function\": \"click(\\\"#854e7817c6fc41dda6d1c8d43c5dd920\\\")\"\n",
      "}\n",
      "```\n"
     ]
    },
    {
     "ename": "InvalidSelectorException",
     "evalue": "Message: invalid selector: An invalid or illegal selector was specified\n  (Session info: chrome=121.0.6167.85); For documentation on this error, please visit: https://www.selenium.dev/documentation/webdriver/troubleshooting/errors#invalid-selector-exception\nStacktrace:\n#0 0x5629411bad93 <unknown>\n#1 0x562940e9e337 <unknown>\n#2 0x562940ea369a <unknown>\n#3 0x562940ea596f <unknown>\n#4 0x562940ea5a1c <unknown>\n#5 0x562940ee9a6e <unknown>\n#6 0x562940ee9e51 <unknown>\n#7 0x562940f2dbc4 <unknown>\n#8 0x562940f0c46d <unknown>\n#9 0x562940f2b12d <unknown>\n#10 0x562940f0c1e3 <unknown>\n#11 0x562940edc135 <unknown>\n#12 0x562940edd13e <unknown>\n#13 0x56294117ee4b <unknown>\n#14 0x562941182dfa <unknown>\n#15 0x56294116b6d5 <unknown>\n#16 0x562941183a6f <unknown>\n#17 0x56294114f69f <unknown>\n#18 0x5629411a8098 <unknown>\n#19 0x5629411a8262 <unknown>\n#20 0x5629411b9f34 <unknown>\n#21 0x7fa1a397fac3 <unknown>\n",
     "output_type": "error",
     "traceback": [
      "\u001b[0;31m---------------------------------------------------------------------------\u001b[0m",
      "\u001b[0;31mInvalidSelectorException\u001b[0m                  Traceback (most recent call last)",
      "Cell \u001b[0;32mIn[13], line 6\u001b[0m\n\u001b[1;32m      4\u001b[0m \u001b[38;5;28mprint\u001b[39m(action\u001b[38;5;241m.\u001b[39mtext)\n\u001b[1;32m      5\u001b[0m actionJson \u001b[38;5;241m=\u001b[39m get_json(action\u001b[38;5;241m.\u001b[39mtext)\n\u001b[0;32m----> 6\u001b[0m \u001b[38;5;28;43meval\u001b[39;49m\u001b[43m(\u001b[49m\u001b[43mactionJson\u001b[49m\u001b[43m[\u001b[49m\u001b[38;5;124;43m'\u001b[39;49m\u001b[38;5;124;43mfunction\u001b[39;49m\u001b[38;5;124;43m'\u001b[39;49m\u001b[43m]\u001b[49m\u001b[43m)\u001b[49m\n\u001b[1;32m      7\u001b[0m update_prev_steps(actionJson)\n",
      "File \u001b[0;32m<string>:1\u001b[0m\n",
      "Cell \u001b[0;32mIn[3], line 48\u001b[0m, in \u001b[0;36mclick\u001b[0;34m(css_selector)\u001b[0m\n\u001b[1;32m     47\u001b[0m \u001b[38;5;28;01mdef\u001b[39;00m \u001b[38;5;21mclick\u001b[39m(css_selector: \u001b[38;5;28mstr\u001b[39m):\n\u001b[0;32m---> 48\u001b[0m     \u001b[43mdriver\u001b[49m\u001b[38;5;241;43m.\u001b[39;49m\u001b[43mfind_element\u001b[49m\u001b[43m(\u001b[49m\u001b[43mBy\u001b[49m\u001b[38;5;241;43m.\u001b[39;49m\u001b[43mCSS_SELECTOR\u001b[49m\u001b[43m,\u001b[49m\u001b[43m \u001b[49m\u001b[43mcss_selector\u001b[49m\u001b[43m)\u001b[49m\u001b[38;5;241m.\u001b[39mclick()\n",
      "File \u001b[0;32m~/projects/glaza/.conda/lib/python3.11/site-packages/selenium/webdriver/remote/webdriver.py:741\u001b[0m, in \u001b[0;36mWebDriver.find_element\u001b[0;34m(self, by, value)\u001b[0m\n\u001b[1;32m    738\u001b[0m     by \u001b[38;5;241m=\u001b[39m By\u001b[38;5;241m.\u001b[39mCSS_SELECTOR\n\u001b[1;32m    739\u001b[0m     value \u001b[38;5;241m=\u001b[39m \u001b[38;5;124mf\u001b[39m\u001b[38;5;124m'\u001b[39m\u001b[38;5;124m[name=\u001b[39m\u001b[38;5;124m\"\u001b[39m\u001b[38;5;132;01m{\u001b[39;00mvalue\u001b[38;5;132;01m}\u001b[39;00m\u001b[38;5;124m\"\u001b[39m\u001b[38;5;124m]\u001b[39m\u001b[38;5;124m'\u001b[39m\n\u001b[0;32m--> 741\u001b[0m \u001b[38;5;28;01mreturn\u001b[39;00m \u001b[38;5;28;43mself\u001b[39;49m\u001b[38;5;241;43m.\u001b[39;49m\u001b[43mexecute\u001b[49m\u001b[43m(\u001b[49m\u001b[43mCommand\u001b[49m\u001b[38;5;241;43m.\u001b[39;49m\u001b[43mFIND_ELEMENT\u001b[49m\u001b[43m,\u001b[49m\u001b[43m \u001b[49m\u001b[43m{\u001b[49m\u001b[38;5;124;43m\"\u001b[39;49m\u001b[38;5;124;43musing\u001b[39;49m\u001b[38;5;124;43m\"\u001b[39;49m\u001b[43m:\u001b[49m\u001b[43m \u001b[49m\u001b[43mby\u001b[49m\u001b[43m,\u001b[49m\u001b[43m \u001b[49m\u001b[38;5;124;43m\"\u001b[39;49m\u001b[38;5;124;43mvalue\u001b[39;49m\u001b[38;5;124;43m\"\u001b[39;49m\u001b[43m:\u001b[49m\u001b[43m \u001b[49m\u001b[43mvalue\u001b[49m\u001b[43m}\u001b[49m\u001b[43m)\u001b[49m[\u001b[38;5;124m\"\u001b[39m\u001b[38;5;124mvalue\u001b[39m\u001b[38;5;124m\"\u001b[39m]\n",
      "File \u001b[0;32m~/projects/glaza/.conda/lib/python3.11/site-packages/selenium/webdriver/remote/webdriver.py:347\u001b[0m, in \u001b[0;36mWebDriver.execute\u001b[0;34m(self, driver_command, params)\u001b[0m\n\u001b[1;32m    345\u001b[0m response \u001b[38;5;241m=\u001b[39m \u001b[38;5;28mself\u001b[39m\u001b[38;5;241m.\u001b[39mcommand_executor\u001b[38;5;241m.\u001b[39mexecute(driver_command, params)\n\u001b[1;32m    346\u001b[0m \u001b[38;5;28;01mif\u001b[39;00m response:\n\u001b[0;32m--> 347\u001b[0m     \u001b[38;5;28;43mself\u001b[39;49m\u001b[38;5;241;43m.\u001b[39;49m\u001b[43merror_handler\u001b[49m\u001b[38;5;241;43m.\u001b[39;49m\u001b[43mcheck_response\u001b[49m\u001b[43m(\u001b[49m\u001b[43mresponse\u001b[49m\u001b[43m)\u001b[49m\n\u001b[1;32m    348\u001b[0m     response[\u001b[38;5;124m\"\u001b[39m\u001b[38;5;124mvalue\u001b[39m\u001b[38;5;124m\"\u001b[39m] \u001b[38;5;241m=\u001b[39m \u001b[38;5;28mself\u001b[39m\u001b[38;5;241m.\u001b[39m_unwrap_value(response\u001b[38;5;241m.\u001b[39mget(\u001b[38;5;124m\"\u001b[39m\u001b[38;5;124mvalue\u001b[39m\u001b[38;5;124m\"\u001b[39m, \u001b[38;5;28;01mNone\u001b[39;00m))\n\u001b[1;32m    349\u001b[0m     \u001b[38;5;28;01mreturn\u001b[39;00m response\n",
      "File \u001b[0;32m~/projects/glaza/.conda/lib/python3.11/site-packages/selenium/webdriver/remote/errorhandler.py:229\u001b[0m, in \u001b[0;36mErrorHandler.check_response\u001b[0;34m(self, response)\u001b[0m\n\u001b[1;32m    227\u001b[0m         alert_text \u001b[38;5;241m=\u001b[39m value[\u001b[38;5;124m\"\u001b[39m\u001b[38;5;124malert\u001b[39m\u001b[38;5;124m\"\u001b[39m]\u001b[38;5;241m.\u001b[39mget(\u001b[38;5;124m\"\u001b[39m\u001b[38;5;124mtext\u001b[39m\u001b[38;5;124m\"\u001b[39m)\n\u001b[1;32m    228\u001b[0m     \u001b[38;5;28;01mraise\u001b[39;00m exception_class(message, screen, stacktrace, alert_text)  \u001b[38;5;66;03m# type: ignore[call-arg]  # mypy is not smart enough here\u001b[39;00m\n\u001b[0;32m--> 229\u001b[0m \u001b[38;5;28;01mraise\u001b[39;00m exception_class(message, screen, stacktrace)\n",
      "\u001b[0;31mInvalidSelectorException\u001b[0m: Message: invalid selector: An invalid or illegal selector was specified\n  (Session info: chrome=121.0.6167.85); For documentation on this error, please visit: https://www.selenium.dev/documentation/webdriver/troubleshooting/errors#invalid-selector-exception\nStacktrace:\n#0 0x5629411bad93 <unknown>\n#1 0x562940e9e337 <unknown>\n#2 0x562940ea369a <unknown>\n#3 0x562940ea596f <unknown>\n#4 0x562940ea5a1c <unknown>\n#5 0x562940ee9a6e <unknown>\n#6 0x562940ee9e51 <unknown>\n#7 0x562940f2dbc4 <unknown>\n#8 0x562940f0c46d <unknown>\n#9 0x562940f2b12d <unknown>\n#10 0x562940f0c1e3 <unknown>\n#11 0x562940edc135 <unknown>\n#12 0x562940edd13e <unknown>\n#13 0x56294117ee4b <unknown>\n#14 0x562941182dfa <unknown>\n#15 0x56294116b6d5 <unknown>\n#16 0x562941183a6f <unknown>\n#17 0x56294114f69f <unknown>\n#18 0x5629411a8098 <unknown>\n#19 0x5629411a8262 <unknown>\n#20 0x5629411b9f34 <unknown>\n#21 0x7fa1a397fac3 <unknown>\n"
     ]
    }
   ],
   "source": [
    "step = get_step(\"\\n\".join([f\"{step[0]}: {step[1]}\" for step in prevSteps]))\n",
    "print(step.text)\n",
    "action = get_action(step.text)\n",
    "print(action.text)\n",
    "actionJson = get_json(action.text)\n",
    "eval(actionJson['function'])\n",
    "update_prev_steps(actionJson)"
   ]
  }
 ],
 "metadata": {
  "kernelspec": {
   "display_name": "Python 3",
   "language": "python",
   "name": "python3"
  },
  "language_info": {
   "codemirror_mode": {
    "name": "ipython",
    "version": 3
   },
   "file_extension": ".py",
   "mimetype": "text/x-python",
   "name": "python",
   "nbconvert_exporter": "python",
   "pygments_lexer": "ipython3",
   "version": "3.11.7"
  }
 },
 "nbformat": 4,
 "nbformat_minor": 2
}
